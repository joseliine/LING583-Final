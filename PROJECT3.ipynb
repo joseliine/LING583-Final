{
 "cells": [
  {
   "cell_type": "markdown",
   "id": "ff4c3985-8a50-485d-bf98-4c48a98be0cd",
   "metadata": {},
   "source": [
    "<h1>Project 3</h1>\n"
   ]
  },
  {
   "cell_type": "code",
   "execution_count": 1,
   "id": "f4907ae8-cc6d-4a16-ad23-4b508a27ddad",
   "metadata": {},
   "outputs": [],
   "source": [
    "import numpy as np\n",
    "import pandas as pd\n",
    "from cytoolz import *\n",
    "from tqdm.auto import tqdm\n",
    "import matplotlib.pyplot as plt\n",
    "\n",
    "tqdm.pandas()"
   ]
  },
  {
   "cell_type": "markdown",
   "id": "54441376-6dd2-470e-a016-7aa3990e4681",
   "metadata": {},
   "source": [
    "<h2>Import dataset</h2>"
   ]
  },
  {
   "cell_type": "code",
   "execution_count": 2,
   "id": "4ebbec84-dc5d-4745-ac83-b21dc54a8cc6",
   "metadata": {},
   "outputs": [],
   "source": [
    "data = pd.read_csv('project3_data.csv')"
   ]
  },
  {
   "cell_type": "markdown",
   "id": "442c2be8-e1b5-4cf2-a4c4-3b45a666f3b9",
   "metadata": {},
   "source": [
    "<h2> Explore the data</h2>"
   ]
  },
  {
   "cell_type": "code",
   "execution_count": 3,
   "id": "f3953332-940a-4754-88f6-86240afee8d8",
   "metadata": {},
   "outputs": [
    {
     "data": {
      "text/html": [
       "<div>\n",
       "<style scoped>\n",
       "    .dataframe tbody tr th:only-of-type {\n",
       "        vertical-align: middle;\n",
       "    }\n",
       "\n",
       "    .dataframe tbody tr th {\n",
       "        vertical-align: top;\n",
       "    }\n",
       "\n",
       "    .dataframe thead th {\n",
       "        text-align: right;\n",
       "    }\n",
       "</style>\n",
       "<table border=\"1\" class=\"dataframe\">\n",
       "  <thead>\n",
       "    <tr style=\"text-align: right;\">\n",
       "      <th></th>\n",
       "      <th>flags</th>\n",
       "      <th>utterance</th>\n",
       "      <th>category</th>\n",
       "      <th>intent</th>\n",
       "    </tr>\n",
       "  </thead>\n",
       "  <tbody>\n",
       "    <tr>\n",
       "      <th>0</th>\n",
       "      <td>BILC</td>\n",
       "      <td>I don't have an online account, what do I have...</td>\n",
       "      <td>ACCOUNT</td>\n",
       "      <td>create_account</td>\n",
       "    </tr>\n",
       "    <tr>\n",
       "      <th>1</th>\n",
       "      <td>BILQZ</td>\n",
       "      <td>can you tell me if i can regisger two accounts...</td>\n",
       "      <td>ACCOUNT</td>\n",
       "      <td>create_account</td>\n",
       "    </tr>\n",
       "    <tr>\n",
       "      <th>2</th>\n",
       "      <td>BPLC</td>\n",
       "      <td>I have no online account, open one, please</td>\n",
       "      <td>ACCOUNT</td>\n",
       "      <td>create_account</td>\n",
       "    </tr>\n",
       "    <tr>\n",
       "      <th>3</th>\n",
       "      <td>BIPLD</td>\n",
       "      <td>could you ask an agent how to open an account,...</td>\n",
       "      <td>ACCOUNT</td>\n",
       "      <td>create_account</td>\n",
       "    </tr>\n",
       "    <tr>\n",
       "      <th>4</th>\n",
       "      <td>BLQC</td>\n",
       "      <td>i want an online account, create one</td>\n",
       "      <td>ACCOUNT</td>\n",
       "      <td>create_account</td>\n",
       "    </tr>\n",
       "    <tr>\n",
       "      <th>...</th>\n",
       "      <td>...</td>\n",
       "      <td>...</td>\n",
       "      <td>...</td>\n",
       "      <td>...</td>\n",
       "    </tr>\n",
       "    <tr>\n",
       "      <th>21493</th>\n",
       "      <td>BILQC</td>\n",
       "      <td>i have no shipping address, what do i have to ...</td>\n",
       "      <td>SHIPPING</td>\n",
       "      <td>set_up_shipping_address</td>\n",
       "    </tr>\n",
       "    <tr>\n",
       "      <th>21494</th>\n",
       "      <td>BLQC</td>\n",
       "      <td>I have no shipping address and I want to set o...</td>\n",
       "      <td>SHIPPING</td>\n",
       "      <td>set_up_shipping_address</td>\n",
       "    </tr>\n",
       "    <tr>\n",
       "      <th>21495</th>\n",
       "      <td>BIQC</td>\n",
       "      <td>i want to set up my shipping address, what do ...</td>\n",
       "      <td>SHIPPING</td>\n",
       "      <td>set_up_shipping_address</td>\n",
       "    </tr>\n",
       "    <tr>\n",
       "      <th>21496</th>\n",
       "      <td>BILC</td>\n",
       "      <td>I don't have a shipping address, can you set o...</td>\n",
       "      <td>SHIPPING</td>\n",
       "      <td>set_up_shipping_address</td>\n",
       "    </tr>\n",
       "    <tr>\n",
       "      <th>21497</th>\n",
       "      <td>BQZ</td>\n",
       "      <td>i  wanna set up my shipping address</td>\n",
       "      <td>SHIPPING</td>\n",
       "      <td>set_up_shipping_address</td>\n",
       "    </tr>\n",
       "  </tbody>\n",
       "</table>\n",
       "<p>21498 rows × 4 columns</p>\n",
       "</div>"
      ],
      "text/plain": [
       "       flags                                          utterance  category  \\\n",
       "0       BILC  I don't have an online account, what do I have...   ACCOUNT   \n",
       "1      BILQZ  can you tell me if i can regisger two accounts...   ACCOUNT   \n",
       "2       BPLC         I have no online account, open one, please   ACCOUNT   \n",
       "3      BIPLD  could you ask an agent how to open an account,...   ACCOUNT   \n",
       "4       BLQC               i want an online account, create one   ACCOUNT   \n",
       "...      ...                                                ...       ...   \n",
       "21493  BILQC  i have no shipping address, what do i have to ...  SHIPPING   \n",
       "21494   BLQC  I have no shipping address and I want to set o...  SHIPPING   \n",
       "21495   BIQC  i want to set up my shipping address, what do ...  SHIPPING   \n",
       "21496   BILC  I don't have a shipping address, can you set o...  SHIPPING   \n",
       "21497    BQZ                i  wanna set up my shipping address  SHIPPING   \n",
       "\n",
       "                        intent  \n",
       "0               create_account  \n",
       "1               create_account  \n",
       "2               create_account  \n",
       "3               create_account  \n",
       "4               create_account  \n",
       "...                        ...  \n",
       "21493  set_up_shipping_address  \n",
       "21494  set_up_shipping_address  \n",
       "21495  set_up_shipping_address  \n",
       "21496  set_up_shipping_address  \n",
       "21497  set_up_shipping_address  \n",
       "\n",
       "[21498 rows x 4 columns]"
      ]
     },
     "execution_count": 3,
     "metadata": {},
     "output_type": "execute_result"
    }
   ],
   "source": [
    "data"
   ]
  },
  {
   "cell_type": "code",
   "execution_count": 4,
   "id": "8a99dc3c-61a3-40f2-b263-c56c88ad5e8c",
   "metadata": {},
   "outputs": [
    {
     "data": {
      "text/plain": [
       "PAYMENT             4636\n",
       "ACCOUNT             4557\n",
       "CONTACT             3081\n",
       "INVOICES            2443\n",
       "ORDER               2220\n",
       "REFUNDS             1932\n",
       "FEEDBACK            1326\n",
       "DELIVERY             501\n",
       "CANCELLATION_FEE     360\n",
       "NEWSLETTER           236\n",
       "SHIPPING             206\n",
       "Name: category, dtype: int64"
      ]
     },
     "execution_count": 4,
     "metadata": {},
     "output_type": "execute_result"
    }
   ],
   "source": [
    "data['category'].value_counts()"
   ]
  },
  {
   "cell_type": "code",
   "execution_count": 5,
   "id": "92cf630e-a153-47db-8988-c833f3a2a1ea",
   "metadata": {},
   "outputs": [
    {
     "data": {
      "text/plain": [
       "payment_issue               4366\n",
       "create_account              2122\n",
       "contact_customer_service    2055\n",
       "get_invoice                 1430\n",
       "track_order                 1224\n",
       "get_refund                  1150\n",
       "contact_human_agent         1026\n",
       "check_invoices              1013\n",
       "recover_password             986\n",
       "change_order                 926\n",
       "delete_account               913\n",
       "complaint                    746\n",
       "review                       580\n",
       "check_refund_policy          479\n",
       "check_cancellation_fee       360\n",
       "delivery_options             360\n",
       "track_refund                 303\n",
       "switch_account               273\n",
       "check_payment_methods        270\n",
       "newsletter_subscription      236\n",
       "delivery_period              141\n",
       "edit_account                 133\n",
       "registration_problems        130\n",
       "change_shipping_address      110\n",
       "set_up_shipping_address       96\n",
       "place_order                   70\n",
       "Name: intent, dtype: int64"
      ]
     },
     "execution_count": 5,
     "metadata": {},
     "output_type": "execute_result"
    }
   ],
   "source": [
    "data['intent'].value_counts()"
   ]
  },
  {
   "cell_type": "code",
   "execution_count": 6,
   "id": "7c15cedc-c050-4bb8-90df-3ca357b08df3",
   "metadata": {},
   "outputs": [
    {
     "data": {
      "text/plain": [
       "<AxesSubplot:title={'center':'Intent Groupings vs Number of Utterances'}>"
      ]
     },
     "execution_count": 6,
     "metadata": {},
     "output_type": "execute_result"
    },
    {
     "data": {
      "image/png": "[encoded data removed]",
      "text/plain": [
       "<Figure size 432x288 with 1 Axes>"
      ]
     },
     "metadata": {
      "needs_background": "light"
     },
     "output_type": "display_data"
    }
   ],
   "source": [
    "data['intent'].value_counts().plot(kind='bar', title='Intent Groupings vs Number of Utterances', cmap='plasma')"
   ]
  },
  {
   "cell_type": "markdown",
   "id": "bab459b8-ed85-450e-bc33-3733b391b3e4",
   "metadata": {},
   "source": [
    "<br>\n",
    "The bar chart above shows that our dataset is imbalanced since the number of observations per class is not equally distributed. For example, the number of utterances belonging to \"payment_issue\" is more than 121 times of \"cancel_order\" utterances."
   ]
  },
  {
   "cell_type": "code",
   "execution_count": 7,
   "id": "0312043c-f2cf-4569-8d78-90f73d15d4d6",
   "metadata": {},
   "outputs": [],
   "source": [
    "# Create a dataframe that contains number of words for each document \n",
    "dlength_data = pd.DataFrame({'doc_length': data.utterance.apply(lambda x: len(x.split()))})"
   ]
  },
  {
   "cell_type": "code",
   "execution_count": 8,
   "id": "aa8c68c5-a4a5-434a-a5e5-f613017b25b5",
   "metadata": {},
   "outputs": [],
   "source": [
    "# Group the documents based on their number of words (i.e. length)\n",
    "grouped = dlength_data.groupby('doc_length')\n",
    "\n",
    "indices = grouped.indices\n",
    "word_count = []\n",
    "doc_count = []\n",
    "counter = 0\n",
    "for w,d in indices.items():\n",
    "    word_count.append(w)\n",
    "    doc_count.append(len(d))"
   ]
  },
  {
   "cell_type": "code",
   "execution_count": 9,
   "id": "f3343300-0bde-48cc-b20c-246d8b3f81c6",
   "metadata": {},
   "outputs": [
    {
     "data": {
      "text/plain": [
       "Text(0.5, 1.0, 'Word count vs Number of documents')"
      ]
     },
     "execution_count": 9,
     "metadata": {},
     "output_type": "execute_result"
    },
    {
     "data": {
      "image/png": "[encoded data removed]",
      "text/plain": [
       "<Figure size 576x360 with 1 Axes>"
      ]
     },
     "metadata": {
      "needs_background": "light"
     },
     "output_type": "display_data"
    }
   ],
   "source": [
    "# Plot the distribution of words vs documents in the corpus\n",
    "plt.figure(figsize=(8,5))\n",
    "plt.plot(word_count, doc_count)\n",
    "plt.xlabel('Word count in document')\n",
    "plt.ylabel('Number of Documents')\n",
    "plt.title('Word count vs Number of documents')"
   ]
  },
  {
   "cell_type": "code",
   "execution_count": 10,
   "id": "5029b258-67a8-44aa-9513-275805bb759c",
   "metadata": {},
   "outputs": [
    {
     "data": {
      "image/png": "[encoded data removed]",
      "text/plain": [
       "<Figure size 576x360 with 1 Axes>"
      ]
     },
     "metadata": {
      "needs_background": "light"
     },
     "output_type": "display_data"
    }
   ],
   "source": [
    "# Plot the Cumulative distribution of documents length\n",
    "plt.figure(figsize=(8,5))\n",
    "plt.hist(word_count, 20, density=True, histtype='step', cumulative=True, label='Complaints', color='red', linewidth=2)\n",
    "plt.xlabel('Word count in document')\n",
    "plt.ylabel('Fraction of Documents')\n",
    "plt.legend(loc='upper left')\n",
    "plt.title('Cumulative distribution of documents length')\n",
    "plt.show()"
   ]
  },
  {
   "cell_type": "markdown",
   "id": "9ae498d2-fef7-4d7c-86d4-6ff0a7391bbb",
   "metadata": {},
   "source": [
    "By looking at the charts above, we realize that most utterances fall between 5-15 words. Also, the fraction of documents with less than 5 words is less than 1%"
   ]
  },
  {
   "cell_type": "markdown",
   "id": "75159f1e-16bc-4129-9ed7-d52b2eb9dd13",
   "metadata": {},
   "source": [
    "<h2>Text Preprocessing</h2>"
   ]
  },
  {
   "cell_type": "code",
   "execution_count": 11,
   "id": "98d3ad29-3c56-4c0b-8128-41d83b505dab",
   "metadata": {},
   "outputs": [],
   "source": [
    "import spacy\n",
    "\n",
    "nlp = spacy.load(\n",
    "    \"en_core_web_sm\",\n",
    "    exclude=[\"tagger\", \"parser\", \"ner\", \"lemmatizer\", \"attribute_ruler\"],\n",
    ")\n",
    "\n",
    "\n",
    "def tokenize(text):\n",
    "    doc = nlp.tokenizer(text)\n",
    "    return [t.norm_ for t in doc if t.is_alpha]"
   ]
  },
  {
   "cell_type": "code",
   "execution_count": 12,
   "id": "ca4037b0-351a-431a-b6a6-0d769d4b51ae",
   "metadata": {},
   "outputs": [],
   "source": [
    "import multiprocessing as mp"
   ]
  },
  {
   "cell_type": "code",
   "execution_count": 13,
   "id": "4e3827fb-cccc-42b3-973f-898a19cb516f",
   "metadata": {},
   "outputs": [
    {
     "data": {
      "application/vnd.jupyter.widget-view+json": {
       "model_id": "e13366f750084386bccadcb0d8a7c5c5",
       "version_major": 2,
       "version_minor": 0
      },
      "text/plain": [
       "  0%|          | 0/21498 [00:00<?, ?it/s]"
      ]
     },
     "metadata": {},
     "output_type": "display_data"
    }
   ],
   "source": [
    "with mp.Pool() as p:\n",
    "    data[\"tokens\"] = list(p.imap(tokenize, tqdm(data[\"utterance\"]), chunksize=100))"
   ]
  },
  {
   "cell_type": "markdown",
   "id": "66cb9f40-69e2-4e3f-8125-1d3ee65ea9ad",
   "metadata": {},
   "source": [
    "<h3>Split the data into 80% train and 20% test</h3>"
   ]
  },
  {
   "cell_type": "code",
   "execution_count": 14,
   "id": "331d9a9b-9ffc-4649-a89b-409341b2ff15",
   "metadata": {},
   "outputs": [],
   "source": [
    "from sklearn.model_selection import train_test_split\n",
    "\n",
    "train, test = train_test_split(data, test_size=0.2, random_state=25)"
   ]
  },
  {
   "cell_type": "code",
   "execution_count": 15,
   "id": "618b0e0b-0d5d-4bb0-9232-cd5b4ebb707c",
   "metadata": {},
   "outputs": [
    {
     "data": {
      "text/html": [
       "<div>\n",
       "<style scoped>\n",
       "    .dataframe tbody tr th:only-of-type {\n",
       "        vertical-align: middle;\n",
       "    }\n",
       "\n",
       "    .dataframe tbody tr th {\n",
       "        vertical-align: top;\n",
       "    }\n",
       "\n",
       "    .dataframe thead th {\n",
       "        text-align: right;\n",
       "    }\n",
       "</style>\n",
       "<table border=\"1\" class=\"dataframe\">\n",
       "  <thead>\n",
       "    <tr style=\"text-align: right;\">\n",
       "      <th></th>\n",
       "      <th>flags</th>\n",
       "      <th>utterance</th>\n",
       "      <th>category</th>\n",
       "      <th>intent</th>\n",
       "      <th>tokens</th>\n",
       "    </tr>\n",
       "  </thead>\n",
       "  <tbody>\n",
       "    <tr>\n",
       "      <th>7369</th>\n",
       "      <td>BILCZ</td>\n",
       "      <td>you aren't helpinmg, can I talk to a human?</td>\n",
       "      <td>CONTACT</td>\n",
       "      <td>contact_human_agent</td>\n",
       "      <td>[you, are, helpinmg, can, i, talk, to, a, human]</td>\n",
       "    </tr>\n",
       "    <tr>\n",
       "      <th>16953</th>\n",
       "      <td>BIPMQDW</td>\n",
       "      <td>please, can u ask an agent if i can report fuc...</td>\n",
       "      <td>PAYMENT</td>\n",
       "      <td>payment_issue</td>\n",
       "      <td>[please, can, u, ask, an, agent, if, i, can, r...</td>\n",
       "    </tr>\n",
       "    <tr>\n",
       "      <th>4750</th>\n",
       "      <td>BIMLCZ</td>\n",
       "      <td>I want to view cancellation fees , what can I do?</td>\n",
       "      <td>CANCELLATION_FEE</td>\n",
       "      <td>check_cancellation_fee</td>\n",
       "      <td>[i, want, to, view, cancelation, fees, what, c...</td>\n",
       "    </tr>\n",
       "    <tr>\n",
       "      <th>3656</th>\n",
       "      <td>BSLC</td>\n",
       "      <td>my account's been hacked, and I need help gett...</td>\n",
       "      <td>ACCOUNT</td>\n",
       "      <td>recover_password</td>\n",
       "      <td>[my, account, been, hacked, and, i, need, help...</td>\n",
       "    </tr>\n",
       "    <tr>\n",
       "      <th>11951</th>\n",
       "      <td>B</td>\n",
       "      <td>where to get an invoice</td>\n",
       "      <td>INVOICES</td>\n",
       "      <td>get_invoice</td>\n",
       "      <td>[where, to, get, an, invoice]</td>\n",
       "    </tr>\n",
       "  </tbody>\n",
       "</table>\n",
       "</div>"
      ],
      "text/plain": [
       "         flags                                          utterance  \\\n",
       "7369     BILCZ        you aren't helpinmg, can I talk to a human?   \n",
       "16953  BIPMQDW  please, can u ask an agent if i can report fuc...   \n",
       "4750    BIMLCZ  I want to view cancellation fees , what can I do?   \n",
       "3656      BSLC  my account's been hacked, and I need help gett...   \n",
       "11951        B                            where to get an invoice   \n",
       "\n",
       "               category                  intent  \\\n",
       "7369            CONTACT     contact_human_agent   \n",
       "16953           PAYMENT           payment_issue   \n",
       "4750   CANCELLATION_FEE  check_cancellation_fee   \n",
       "3656            ACCOUNT        recover_password   \n",
       "11951          INVOICES             get_invoice   \n",
       "\n",
       "                                                  tokens  \n",
       "7369    [you, are, helpinmg, can, i, talk, to, a, human]  \n",
       "16953  [please, can, u, ask, an, agent, if, i, can, r...  \n",
       "4750   [i, want, to, view, cancelation, fees, what, c...  \n",
       "3656   [my, account, been, hacked, and, i, need, help...  \n",
       "11951                      [where, to, get, an, invoice]  "
      ]
     },
     "execution_count": 15,
     "metadata": {},
     "output_type": "execute_result"
    }
   ],
   "source": [
    "train.head()"
   ]
  },
  {
   "cell_type": "code",
   "execution_count": 16,
   "id": "5df03853-78d4-4d9c-9c10-3631653a12fd",
   "metadata": {},
   "outputs": [
    {
     "data": {
      "text/html": [
       "<div>\n",
       "<style scoped>\n",
       "    .dataframe tbody tr th:only-of-type {\n",
       "        vertical-align: middle;\n",
       "    }\n",
       "\n",
       "    .dataframe tbody tr th {\n",
       "        vertical-align: top;\n",
       "    }\n",
       "\n",
       "    .dataframe thead th {\n",
       "        text-align: right;\n",
       "    }\n",
       "</style>\n",
       "<table border=\"1\" class=\"dataframe\">\n",
       "  <thead>\n",
       "    <tr style=\"text-align: right;\">\n",
       "      <th></th>\n",
       "      <th>flags</th>\n",
       "      <th>utterance</th>\n",
       "      <th>category</th>\n",
       "      <th>intent</th>\n",
       "      <th>tokens</th>\n",
       "    </tr>\n",
       "  </thead>\n",
       "  <tbody>\n",
       "    <tr>\n",
       "      <th>6590</th>\n",
       "      <td>BILQC</td>\n",
       "      <td>I want information, what do I have to do to ca...</td>\n",
       "      <td>CONTACT</td>\n",
       "      <td>contact_customer_service</td>\n",
       "      <td>[i, want, information, what, do, i, have, to, ...</td>\n",
       "    </tr>\n",
       "    <tr>\n",
       "      <th>3774</th>\n",
       "      <td>BILC</td>\n",
       "      <td>my user account's been hacked, what should i do?</td>\n",
       "      <td>ACCOUNT</td>\n",
       "      <td>recover_password</td>\n",
       "      <td>[my, user, account, been, hacked, what, should...</td>\n",
       "    </tr>\n",
       "    <tr>\n",
       "      <th>3255</th>\n",
       "      <td>BILC</td>\n",
       "      <td>my profile's been hacked, how do I recover it?</td>\n",
       "      <td>ACCOUNT</td>\n",
       "      <td>recover_password</td>\n",
       "      <td>[my, profile, been, hacked, how, do, i, recove...</td>\n",
       "    </tr>\n",
       "    <tr>\n",
       "      <th>19017</th>\n",
       "      <td>BILQC</td>\n",
       "      <td>i get an error message when i try to make a pa...</td>\n",
       "      <td>PAYMENT</td>\n",
       "      <td>payment_issue</td>\n",
       "      <td>[i, get, an, error, message, when, i, try, to,...</td>\n",
       "    </tr>\n",
       "    <tr>\n",
       "      <th>16416</th>\n",
       "      <td>BIML</td>\n",
       "      <td>where do I inform of problems making a payment?</td>\n",
       "      <td>PAYMENT</td>\n",
       "      <td>payment_issue</td>\n",
       "      <td>[where, do, i, inform, of, problems, making, a...</td>\n",
       "    </tr>\n",
       "  </tbody>\n",
       "</table>\n",
       "</div>"
      ],
      "text/plain": [
       "       flags                                          utterance category  \\\n",
       "6590   BILQC  I want information, what do I have to do to ca...  CONTACT   \n",
       "3774    BILC   my user account's been hacked, what should i do?  ACCOUNT   \n",
       "3255    BILC     my profile's been hacked, how do I recover it?  ACCOUNT   \n",
       "19017  BILQC  i get an error message when i try to make a pa...  PAYMENT   \n",
       "16416   BIML    where do I inform of problems making a payment?  PAYMENT   \n",
       "\n",
       "                         intent  \\\n",
       "6590   contact_customer_service   \n",
       "3774           recover_password   \n",
       "3255           recover_password   \n",
       "19017             payment_issue   \n",
       "16416             payment_issue   \n",
       "\n",
       "                                                  tokens  \n",
       "6590   [i, want, information, what, do, i, have, to, ...  \n",
       "3774   [my, user, account, been, hacked, what, should...  \n",
       "3255   [my, profile, been, hacked, how, do, i, recove...  \n",
       "19017  [i, get, an, error, message, when, i, try, to,...  \n",
       "16416  [where, do, i, inform, of, problems, making, a...  "
      ]
     },
     "execution_count": 16,
     "metadata": {},
     "output_type": "execute_result"
    }
   ],
   "source": [
    "test.head()"
   ]
  },
  {
   "cell_type": "markdown",
   "id": "075d824a-042d-4a4b-8057-53baffea0795",
   "metadata": {},
   "source": [
    "<h2>Modeling</h2>"
   ]
  },
  {
   "cell_type": "code",
   "execution_count": 17,
   "id": "2e6b55a3-0e89-4ea9-92b1-52c51380158f",
   "metadata": {},
   "outputs": [],
   "source": [
    "import mlflow\n",
    "mlflow.sklearn.autolog(silent=True)\n",
    "\n",
    "from sklearn.metrics import classification_report, ConfusionMatrixDisplay, f1_score\n",
    "from sklearn.feature_extraction.text import CountVectorizer, TfidfTransformer\n",
    "\n",
    "from sklearn.pipeline import make_pipeline"
   ]
  },
  {
   "cell_type": "markdown",
   "id": "29a15809-6815-4e1c-81b6-e0f4607a146f",
   "metadata": {},
   "source": [
    "<h2>Naive Bayes</h2>\n",
    "<h3> (MultinomialNB baseline)</h3>"
   ]
  },
  {
   "cell_type": "code",
   "execution_count": 18,
   "id": "de1ecb61-a76d-4f4d-9a9a-18cac134f890",
   "metadata": {},
   "outputs": [],
   "source": [
    "from sklearn.naive_bayes import MultinomialNB"
   ]
  },
  {
   "cell_type": "code",
   "execution_count": 19,
   "id": "92290637-47a2-4052-8bec-c9abeb10bbcf",
   "metadata": {},
   "outputs": [
    {
     "name": "stderr",
     "output_type": "stream",
     "text": [
      "/opt/jupyterlab/singleuser/lib/python3.9/site-packages/sklearn/metrics/_classification.py:1318: UndefinedMetricWarning: Precision is ill-defined and being set to 0.0 in labels with no predicted samples. Use `zero_division` parameter to control this behavior.\n",
      "  _warn_prf(average, modifier, msg_start, len(result))\n"
     ]
    },
    {
     "name": "stdout",
     "output_type": "stream",
     "text": [
      "CPU times: user 2.51 s, sys: 129 ms, total: 2.64 s\n",
      "Wall time: 5.31 s\n"
     ]
    },
    {
     "data": {
      "text/plain": [
       "Pipeline(steps=[('countvectorizer',\n",
       "                 CountVectorizer(analyzer=<cyfunction identity at 0x2af611ded450>)),\n",
       "                ('multinomialnb', MultinomialNB())])"
      ]
     },
     "execution_count": 19,
     "metadata": {},
     "output_type": "execute_result"
    }
   ],
   "source": [
    "%%time\n",
    "\n",
    "nb = make_pipeline(CountVectorizer(analyzer=identity), MultinomialNB())\n",
    "nb.fit(train[\"tokens\"], train[\"intent\"])"
   ]
  },
  {
   "cell_type": "code",
   "execution_count": 20,
   "id": "77d42b1d-bfbf-4d6b-8f28-c64bad973624",
   "metadata": {},
   "outputs": [
    {
     "name": "stdout",
     "output_type": "stream",
     "text": [
      "                          precision    recall  f1-score   support\n",
      "\n",
      "            change_order     0.9507    0.9897    0.9698       195\n",
      " change_shipping_address     1.0000    0.9130    0.9545        23\n",
      "  check_cancellation_fee     1.0000    1.0000    1.0000        67\n",
      "          check_invoices     0.9894    0.9894    0.9894       188\n",
      "   check_payment_methods     1.0000    0.9592    0.9792        49\n",
      "     check_refund_policy     1.0000    0.9889    0.9944        90\n",
      "               complaint     0.9935    1.0000    0.9967       152\n",
      "contact_customer_service     0.9977    1.0000    0.9989       442\n",
      "     contact_human_agent     1.0000    0.9727    0.9861       183\n",
      "          create_account     0.9933    0.9955    0.9944       444\n",
      "          delete_account     0.9883    1.0000    0.9941       169\n",
      "        delivery_options     0.9459    1.0000    0.9722        70\n",
      "         delivery_period     0.8857    0.8857    0.8857        35\n",
      "            edit_account     1.0000    0.9474    0.9730        19\n",
      "             get_invoice     0.9859    1.0000    0.9929       279\n",
      "              get_refund     0.9915    0.9957    0.9936       233\n",
      " newsletter_subscription     0.9123    1.0000    0.9541        52\n",
      "           payment_issue     0.9846    0.9944    0.9895       899\n",
      "             place_order     0.0000    0.0000    0.0000        19\n",
      "        recover_password     1.0000    1.0000    1.0000       188\n",
      "   registration_problems     1.0000    0.8182    0.9000        33\n",
      "                  review     1.0000    1.0000    1.0000       109\n",
      " set_up_shipping_address     1.0000    1.0000    1.0000        23\n",
      "          switch_account     1.0000    1.0000    1.0000        57\n",
      "             track_order     0.9868    0.9740    0.9804       231\n",
      "            track_refund     0.9444    1.0000    0.9714        51\n",
      "\n",
      "                accuracy                         0.9865      4300\n",
      "               macro avg     0.9442    0.9394    0.9412      4300\n",
      "            weighted avg     0.9824    0.9865    0.9843      4300\n",
      "\n"
     ]
    },
    {
     "name": "stderr",
     "output_type": "stream",
     "text": [
      "/opt/jupyterlab/singleuser/lib/python3.9/site-packages/sklearn/metrics/_classification.py:1318: UndefinedMetricWarning: Precision and F-score are ill-defined and being set to 0.0 in labels with no predicted samples. Use `zero_division` parameter to control this behavior.\n",
      "  _warn_prf(average, modifier, msg_start, len(result))\n",
      "/opt/jupyterlab/singleuser/lib/python3.9/site-packages/sklearn/metrics/_classification.py:1318: UndefinedMetricWarning: Precision and F-score are ill-defined and being set to 0.0 in labels with no predicted samples. Use `zero_division` parameter to control this behavior.\n",
      "  _warn_prf(average, modifier, msg_start, len(result))\n",
      "/opt/jupyterlab/singleuser/lib/python3.9/site-packages/sklearn/metrics/_classification.py:1318: UndefinedMetricWarning: Precision and F-score are ill-defined and being set to 0.0 in labels with no predicted samples. Use `zero_division` parameter to control this behavior.\n",
      "  _warn_prf(average, modifier, msg_start, len(result))\n"
     ]
    }
   ],
   "source": [
    "print(classification_report(test[\"intent\"], nb.predict(test[\"tokens\"]), digits=4))"
   ]
  },
  {
   "cell_type": "code",
   "execution_count": 21,
   "id": "773a5737-a6f9-41a0-a2ca-0821dc642690",
   "metadata": {},
   "outputs": [
    {
     "name": "stderr",
     "output_type": "stream",
     "text": [
      "/opt/jupyterlab/singleuser/lib/python3.9/site-packages/sklearn/metrics/_classification.py:1318: UndefinedMetricWarning: Precision is ill-defined and being set to 0.0 in labels with no predicted samples. Use `zero_division` parameter to control this behavior.\n",
      "  _warn_prf(average, modifier, msg_start, len(result))\n",
      "/opt/jupyterlab/singleuser/lib/python3.9/site-packages/sklearn/utils/deprecation.py:87: FutureWarning: Function plot_confusion_matrix is deprecated; Function `plot_confusion_matrix` is deprecated in 1.0 and will be removed in 1.2. Use one of the class methods: ConfusionMatrixDisplay.from_predictions or ConfusionMatrixDisplay.from_estimator.\n",
      "  warnings.warn(msg, category=FutureWarning)\n"
     ]
    }
   ],
   "source": [
    "with mlflow.start_run():\n",
    "    mlflow.sklearn.eval_and_log_metrics(nb, test[\"tokens\"], test[\"intent\"], prefix='test_')"
   ]
  },
  {
   "cell_type": "code",
   "execution_count": 22,
   "id": "3b0cd684-8a36-40ca-a736-063843cbc263",
   "metadata": {},
   "outputs": [],
   "source": [
    "from sklearn.model_selection import RandomizedSearchCV\n",
    "from scipy.stats.distributions import loguniform, randint, uniform"
   ]
  },
  {
   "cell_type": "code",
   "execution_count": 23,
   "id": "255707fb-2306-4d9c-b3a1-61817aba9a19",
   "metadata": {},
   "outputs": [
    {
     "name": "stdout",
     "output_type": "stream",
     "text": [
      "CPU times: user 8.13 s, sys: 528 ms, total: 8.66 s\n",
      "Wall time: 20.2 s\n"
     ]
    }
   ],
   "source": [
    "%%time\n",
    "\n",
    "search = RandomizedSearchCV(\n",
    "    nb,\n",
    "    {\n",
    "        \"multinomialnb__alpha\": loguniform(1e-4, 1.0),\n",
    "    },\n",
    "    n_iter=30,\n",
    "    n_jobs=-1,\n",
    "    scoring=\"f1_macro\",\n",
    ")\n",
    "\n",
    "with mlflow.start_run():\n",
    "    search.fit(train[\"tokens\"], train[\"intent\"])"
   ]
  },
  {
   "cell_type": "code",
   "execution_count": 24,
   "id": "576ab9c9-85e3-4756-ab4a-06864bf6e2cf",
   "metadata": {},
   "outputs": [
    {
     "data": {
      "text/plain": [
       "Pipeline(steps=[('countvectorizer',\n",
       "                 CountVectorizer(analyzer=<cyfunction identity at 0x2af611ded450>)),\n",
       "                ('multinomialnb', MultinomialNB(alpha=0.2))])"
      ]
     },
     "execution_count": 24,
     "metadata": {},
     "output_type": "execute_result"
    }
   ],
   "source": [
    "nb.set_params(multinomialnb__alpha=0.2)\n",
    "nb.fit(train[\"tokens\"], train[\"intent\"])"
   ]
  },
  {
   "cell_type": "code",
   "execution_count": 25,
   "id": "43edcbbf-9b06-4c2d-b5e2-c0a7d79f28fb",
   "metadata": {},
   "outputs": [
    {
     "name": "stdout",
     "output_type": "stream",
     "text": [
      "                          precision    recall  f1-score   support\n",
      "\n",
      "            change_order     0.9698    0.9897    0.9797       195\n",
      " change_shipping_address     1.0000    1.0000    1.0000        23\n",
      "  check_cancellation_fee     1.0000    1.0000    1.0000        67\n",
      "          check_invoices     0.9947    0.9947    0.9947       188\n",
      "   check_payment_methods     1.0000    1.0000    1.0000        49\n",
      "     check_refund_policy     1.0000    0.9889    0.9944        90\n",
      "               complaint     1.0000    1.0000    1.0000       152\n",
      "contact_customer_service     0.9977    1.0000    0.9989       442\n",
      "     contact_human_agent     1.0000    0.9945    0.9973       183\n",
      "          create_account     1.0000    0.9932    0.9966       444\n",
      "          delete_account     0.9883    1.0000    0.9941       169\n",
      "        delivery_options     1.0000    1.0000    1.0000        70\n",
      "         delivery_period     0.9211    1.0000    0.9589        35\n",
      "            edit_account     1.0000    1.0000    1.0000        19\n",
      "             get_invoice     0.9894    1.0000    0.9947       279\n",
      "              get_refund     0.9915    0.9957    0.9936       233\n",
      " newsletter_subscription     0.9811    1.0000    0.9905        52\n",
      "           payment_issue     0.9934    0.9978    0.9956       899\n",
      "             place_order     1.0000    0.4211    0.5926        19\n",
      "        recover_password     1.0000    1.0000    1.0000       188\n",
      "   registration_problems     0.9688    0.9394    0.9538        33\n",
      "                  review     1.0000    1.0000    1.0000       109\n",
      " set_up_shipping_address     1.0000    1.0000    1.0000        23\n",
      "          switch_account     1.0000    1.0000    1.0000        57\n",
      "             track_order     0.9956    0.9740    0.9847       231\n",
      "            track_refund     0.9444    1.0000    0.9714        51\n",
      "\n",
      "                accuracy                         0.9930      4300\n",
      "               macro avg     0.9898    0.9727    0.9766      4300\n",
      "            weighted avg     0.9932    0.9930    0.9925      4300\n",
      "\n"
     ]
    }
   ],
   "source": [
    "print(classification_report(test[\"intent\"], nb.predict(test[\"tokens\"]), digits=4))"
   ]
  },
  {
   "cell_type": "code",
   "execution_count": 26,
   "id": "00bd74c0-cee9-4a89-bcf2-905390059adb",
   "metadata": {
    "tags": []
   },
   "outputs": [
    {
     "data": {
      "text/plain": [
       "<sklearn.metrics._plot.confusion_matrix.ConfusionMatrixDisplay at 0x2af63225d520>"
      ]
     },
     "execution_count": 26,
     "metadata": {},
     "output_type": "execute_result"
    },
    {
     "data": {
      "image/png": "[encoded data removed]",
      "text/plain": [
       "<Figure size 432x288 with 2 Axes>"
      ]
     },
     "metadata": {
      "needs_background": "light"
     },
     "output_type": "display_data"
    }
   ],
   "source": [
    "ConfusionMatrixDisplay.from_estimator(nb, test[\"tokens\"], test[\"intent\"], xticks_rotation=90)"
   ]
  },
  {
   "cell_type": "markdown",
   "id": "deeac2cc-4e1c-4328-8086-eba8dcba1d8b",
   "metadata": {},
   "source": [
    "<h1>Decision Tree</h1>"
   ]
  },
  {
   "cell_type": "code",
   "execution_count": 27,
   "id": "2d863128-8b94-491b-a30d-a061799166e4",
   "metadata": {},
   "outputs": [],
   "source": [
    "from sklearn.tree import DecisionTreeClassifier"
   ]
  },
  {
   "cell_type": "code",
   "execution_count": 28,
   "id": "f26f314d-ecf7-4d65-b669-dd300c4a50e1",
   "metadata": {},
   "outputs": [],
   "source": [
    "baseline = make_pipeline(CountVectorizer(analyzer=identity), DecisionTreeClassifier())\n",
    "with mlflow.start_run():\n",
    "    baseline.fit(train[\"tokens\"], train[\"intent\"])"
   ]
  },
  {
   "cell_type": "code",
   "execution_count": 29,
   "id": "21864589-ea00-4b5b-9b2e-6982d51bdc13",
   "metadata": {},
   "outputs": [
    {
     "name": "stdout",
     "output_type": "stream",
     "text": [
      "                          precision    recall  f1-score   support\n",
      "\n",
      "            change_order       0.98      0.99      0.99       195\n",
      " change_shipping_address       1.00      1.00      1.00        23\n",
      "  check_cancellation_fee       1.00      0.96      0.98        67\n",
      "          check_invoices       0.99      0.98      0.99       188\n",
      "   check_payment_methods       0.98      1.00      0.99        49\n",
      "     check_refund_policy       1.00      1.00      1.00        90\n",
      "               complaint       1.00      1.00      1.00       152\n",
      "contact_customer_service       1.00      0.99      1.00       442\n",
      "     contact_human_agent       0.98      0.99      0.99       183\n",
      "          create_account       0.98      0.99      0.98       444\n",
      "          delete_account       1.00      0.98      0.99       169\n",
      "        delivery_options       1.00      0.97      0.99        70\n",
      "         delivery_period       0.94      0.94      0.94        35\n",
      "            edit_account       0.90      1.00      0.95        19\n",
      "             get_invoice       0.98      1.00      0.99       279\n",
      "              get_refund       0.99      0.98      0.98       233\n",
      " newsletter_subscription       0.93      1.00      0.96        52\n",
      "           payment_issue       1.00      1.00      1.00       899\n",
      "             place_order       1.00      0.79      0.88        19\n",
      "        recover_password       1.00      0.99      0.99       188\n",
      "   registration_problems       1.00      0.70      0.82        33\n",
      "                  review       0.98      0.99      0.99       109\n",
      " set_up_shipping_address       1.00      1.00      1.00        23\n",
      "          switch_account       1.00      1.00      1.00        57\n",
      "             track_order       0.95      1.00      0.97       231\n",
      "            track_refund       1.00      1.00      1.00        51\n",
      "\n",
      "                accuracy                           0.99      4300\n",
      "               macro avg       0.98      0.97      0.98      4300\n",
      "            weighted avg       0.99      0.99      0.99      4300\n",
      "\n"
     ]
    }
   ],
   "source": [
    "tree = baseline.predict(test[\"tokens\"])\n",
    "print(classification_report(test[\"intent\"], tree))"
   ]
  },
  {
   "cell_type": "code",
   "execution_count": 30,
   "id": "8ed9dce9-ad07-4fa0-9b7c-f5ecfea5ca8f",
   "metadata": {},
   "outputs": [
    {
     "data": {
      "text/plain": [
       "<sklearn.metrics._plot.confusion_matrix.ConfusionMatrixDisplay at 0x2af632169160>"
      ]
     },
     "execution_count": 30,
     "metadata": {},
     "output_type": "execute_result"
    },
    {
     "data": {
      "image/png": "[encoded data removed]",
      "text/plain": [
       "<Figure size 432x288 with 2 Axes>"
      ]
     },
     "metadata": {
      "needs_background": "light"
     },
     "output_type": "display_data"
    }
   ],
   "source": [
    "ConfusionMatrixDisplay.from_estimator(baseline, test[\"tokens\"], test[\"intent\"], xticks_rotation=90)"
   ]
  },
  {
   "cell_type": "markdown",
   "id": "e19aa8be-2155-42df-9ce3-f24477a43b4e",
   "metadata": {},
   "source": [
    "<h3> SGDClassifier baseline</h3>"
   ]
  },
  {
   "cell_type": "code",
   "execution_count": 31,
   "id": "0ac30dc9-8e73-4d3c-aa44-c6f88d5da80c",
   "metadata": {},
   "outputs": [],
   "source": [
    "from sklearn.linear_model import SGDClassifier"
   ]
  },
  {
   "cell_type": "code",
   "execution_count": 32,
   "id": "d26caa2e-21ae-4d88-b3a1-7753d6e42bf0",
   "metadata": {},
   "outputs": [],
   "source": [
    "baseline = make_pipeline(CountVectorizer(analyzer=identity), SGDClassifier())\n",
    "with mlflow.start_run():\n",
    "    baseline.fit(train[\"tokens\"], train[\"intent\"])"
   ]
  },
  {
   "cell_type": "code",
   "execution_count": 33,
   "id": "e435684e-b7b6-44cc-be5d-735f70faa4d8",
   "metadata": {},
   "outputs": [
    {
     "name": "stdout",
     "output_type": "stream",
     "text": [
      "                          precision    recall  f1-score   support\n",
      "\n",
      "            change_order       1.00      0.99      0.99       195\n",
      " change_shipping_address       1.00      1.00      1.00        23\n",
      "  check_cancellation_fee       1.00      1.00      1.00        67\n",
      "          check_invoices       0.99      0.99      0.99       188\n",
      "   check_payment_methods       1.00      0.98      0.99        49\n",
      "     check_refund_policy       1.00      1.00      1.00        90\n",
      "               complaint       1.00      0.99      1.00       152\n",
      "contact_customer_service       1.00      1.00      1.00       442\n",
      "     contact_human_agent       0.99      1.00      0.99       183\n",
      "          create_account       1.00      1.00      1.00       444\n",
      "          delete_account       1.00      1.00      1.00       169\n",
      "        delivery_options       0.99      0.99      0.99        70\n",
      "         delivery_period       0.97      0.97      0.97        35\n",
      "            edit_account       1.00      1.00      1.00        19\n",
      "             get_invoice       0.99      1.00      0.99       279\n",
      "              get_refund       1.00      1.00      1.00       233\n",
      " newsletter_subscription       1.00      1.00      1.00        52\n",
      "           payment_issue       1.00      1.00      1.00       899\n",
      "             place_order       1.00      0.95      0.97        19\n",
      "        recover_password       1.00      1.00      1.00       188\n",
      "   registration_problems       0.97      0.94      0.95        33\n",
      "                  review       0.99      1.00      1.00       109\n",
      " set_up_shipping_address       1.00      1.00      1.00        23\n",
      "          switch_account       1.00      1.00      1.00        57\n",
      "             track_order       0.99      1.00      0.99       231\n",
      "            track_refund       1.00      1.00      1.00        51\n",
      "\n",
      "                accuracy                           1.00      4300\n",
      "               macro avg       1.00      0.99      0.99      4300\n",
      "            weighted avg       1.00      1.00      1.00      4300\n",
      "\n"
     ]
    }
   ],
   "source": [
    "base_predicted = baseline.predict(test[\"tokens\"])\n",
    "print(classification_report(test[\"intent\"], base_predicted))"
   ]
  },
  {
   "cell_type": "code",
   "execution_count": 34,
   "id": "4d46378e-388e-4bc3-a367-58c286ef5817",
   "metadata": {},
   "outputs": [],
   "source": [
    "mlflow.end_run()"
   ]
  },
  {
   "cell_type": "code",
   "execution_count": 35,
   "id": "ab4295d1-5b40-4553-9adf-af5fe10fc28c",
   "metadata": {},
   "outputs": [
    {
     "name": "stderr",
     "output_type": "stream",
     "text": [
      "/opt/jupyterlab/singleuser/lib/python3.9/site-packages/sklearn/utils/deprecation.py:87: FutureWarning: Function plot_confusion_matrix is deprecated; Function `plot_confusion_matrix` is deprecated in 1.0 and will be removed in 1.2. Use one of the class methods: ConfusionMatrixDisplay.from_predictions or ConfusionMatrixDisplay.from_estimator.\n",
      "  warnings.warn(msg, category=FutureWarning)\n"
     ]
    }
   ],
   "source": [
    "with mlflow.start_run():\n",
    "    mlflow.sklearn.eval_and_log_metrics(baseline, test[\"tokens\"], test[\"intent\"], prefix='test_')"
   ]
  },
  {
   "cell_type": "code",
   "execution_count": 36,
   "id": "5376ffdc-1d89-44e8-9a3e-beb2e5f41f2e",
   "metadata": {},
   "outputs": [],
   "source": [
    "sgd = make_pipeline(CountVectorizer(analyzer=identity), TfidfTransformer(), SGDClassifier())"
   ]
  },
  {
   "cell_type": "code",
   "execution_count": 37,
   "id": "700acd20-6f45-497e-abd4-5f1c54f45231",
   "metadata": {},
   "outputs": [
    {
     "name": "stdout",
     "output_type": "stream",
     "text": [
      "CPU times: user 4.47 s, sys: 431 ms, total: 4.9 s\n",
      "Wall time: 18.8 s\n"
     ]
    }
   ],
   "source": [
    "%%time\n",
    "\n",
    "search = RandomizedSearchCV(\n",
    "    sgd,\n",
    "    {\n",
    "        \"countvectorizer__min_df\": randint(1, 5),\n",
    "        \"countvectorizer__max_df\": uniform(0.5, 0.5),\n",
    "        \"tfidftransformer__use_idf\": [True, False],\n",
    "        \"sgdclassifier__alpha\": loguniform(1e-8, 1e-4),\n",
    "    },\n",
    "    n_iter=10,\n",
    "    n_jobs=-1,\n",
    "    scoring=\"f1_macro\",\n",
    ")\n",
    "\n",
    "with mlflow.start_run():\n",
    "    search.fit(train[\"tokens\"], train[\"intent\"])"
   ]
  },
  {
   "cell_type": "code",
   "execution_count": 38,
   "id": "a94a7fb9-3412-419c-9075-d44b632dd872",
   "metadata": {},
   "outputs": [
    {
     "data": {
      "text/plain": [
       "(0.9916271555555006,\n",
       " {'countvectorizer__max_df': 0.6105430771903004,\n",
       "  'countvectorizer__min_df': 4,\n",
       "  'sgdclassifier__alpha': 9.219851809236589e-07,\n",
       "  'tfidftransformer__use_idf': True})"
      ]
     },
     "execution_count": 38,
     "metadata": {},
     "output_type": "execute_result"
    }
   ],
   "source": [
    "search.best_score_, search.best_params_"
   ]
  },
  {
   "cell_type": "code",
   "execution_count": 39,
   "id": "6c5da210-02c0-4098-8816-0a13b6f88b7c",
   "metadata": {},
   "outputs": [
    {
     "data": {
      "text/plain": [
       "Pipeline(steps=[('countvectorizer',\n",
       "                 CountVectorizer(analyzer=<cyfunction identity at 0x2af611ded450>,\n",
       "                                 max_df=0.6105430771903004, min_df=4)),\n",
       "                ('tfidftransformer', TfidfTransformer()),\n",
       "                ('sgdclassifier', SGDClassifier(alpha=9.219851809236589e-07))])"
      ]
     },
     "execution_count": 39,
     "metadata": {},
     "output_type": "execute_result"
    }
   ],
   "source": [
    "sgd.set_params(**search.best_params_)"
   ]
  },
  {
   "cell_type": "code",
   "execution_count": 40,
   "id": "269cd00b-cd6a-4c17-87a7-e0ecbac4cc03",
   "metadata": {},
   "outputs": [],
   "source": [
    "with mlflow.start_run():\n",
    "    sgd.fit(train[\"tokens\"], train[\"intent\"])"
   ]
  },
  {
   "cell_type": "code",
   "execution_count": 41,
   "id": "f74c8f6b-d5dd-4aa9-93be-feee567d2ba7",
   "metadata": {},
   "outputs": [
    {
     "name": "stdout",
     "output_type": "stream",
     "text": [
      "                          precision    recall  f1-score   support\n",
      "\n",
      "            change_order       0.99      0.99      0.99       195\n",
      " change_shipping_address       1.00      1.00      1.00        23\n",
      "  check_cancellation_fee       1.00      1.00      1.00        67\n",
      "          check_invoices       0.99      0.99      0.99       188\n",
      "   check_payment_methods       1.00      1.00      1.00        49\n",
      "     check_refund_policy       1.00      1.00      1.00        90\n",
      "               complaint       1.00      1.00      1.00       152\n",
      "contact_customer_service       1.00      1.00      1.00       442\n",
      "     contact_human_agent       1.00      1.00      1.00       183\n",
      "          create_account       1.00      1.00      1.00       444\n",
      "          delete_account       0.99      0.99      0.99       169\n",
      "        delivery_options       0.99      1.00      0.99        70\n",
      "         delivery_period       1.00      0.94      0.97        35\n",
      "            edit_account       0.95      1.00      0.97        19\n",
      "             get_invoice       0.99      1.00      0.99       279\n",
      "              get_refund       1.00      0.99      1.00       233\n",
      " newsletter_subscription       0.98      1.00      0.99        52\n",
      "           payment_issue       1.00      1.00      1.00       899\n",
      "             place_order       1.00      0.95      0.97        19\n",
      "        recover_password       1.00      1.00      1.00       188\n",
      "   registration_problems       1.00      0.91      0.95        33\n",
      "                  review       1.00      1.00      1.00       109\n",
      " set_up_shipping_address       1.00      1.00      1.00        23\n",
      "          switch_account       1.00      1.00      1.00        57\n",
      "             track_order       0.99      0.99      0.99       231\n",
      "            track_refund       0.96      1.00      0.98        51\n",
      "\n",
      "                accuracy                           1.00      4300\n",
      "               macro avg       0.99      0.99      0.99      4300\n",
      "            weighted avg       1.00      1.00      1.00      4300\n",
      "\n"
     ]
    }
   ],
   "source": [
    "predicted = sgd.predict(test[\"tokens\"])\n",
    "print(classification_report(test[\"intent\"], predicted))"
   ]
  },
  {
   "cell_type": "code",
   "execution_count": 42,
   "id": "e1c5b6c0-c10b-4f52-9e04-b0c0fb15d024",
   "metadata": {
    "scrolled": true,
    "tags": []
   },
   "outputs": [
    {
     "data": {
      "text/plain": [
       "<sklearn.metrics._plot.confusion_matrix.ConfusionMatrixDisplay at 0x2af6367676d0>"
      ]
     },
     "execution_count": 42,
     "metadata": {},
     "output_type": "execute_result"
    },
    {
     "data": {
      "image/png": "[encoded data removed]",
      "text/plain": [
       "<Figure size 432x288 with 2 Axes>"
      ]
     },
     "metadata": {
      "needs_background": "light"
     },
     "output_type": "display_data"
    }
   ],
   "source": [
    "ConfusionMatrixDisplay.from_estimator(sgd, test[\"tokens\"], test[\"intent\"], xticks_rotation=90)"
   ]
  },
  {
   "cell_type": "code",
   "execution_count": 43,
   "id": "f1421d32-d411-4158-aa55-441c8bf0c1fc",
   "metadata": {
    "scrolled": true,
    "tags": []
   },
   "outputs": [
    {
     "data": {
      "text/plain": [
       "<sklearn.metrics._plot.confusion_matrix.ConfusionMatrixDisplay at 0x2af632136b80>"
      ]
     },
     "execution_count": 43,
     "metadata": {},
     "output_type": "execute_result"
    },
    {
     "data": {
      "image/png": "[encoded data removed]",
      "text/plain": [
       "<Figure size 432x288 with 2 Axes>"
      ]
     },
     "metadata": {
      "needs_background": "light"
     },
     "output_type": "display_data"
    }
   ],
   "source": [
    "ConfusionMatrixDisplay.from_estimator(sgd, test[\"tokens\"], test[\"intent\"], xticks_rotation=90, normalize='true')"
   ]
  },
  {
   "cell_type": "markdown",
   "id": "79e76674-0aea-4940-bafd-91aaa5075af9",
   "metadata": {},
   "source": [
    "<h3> Error Analysis </h3>"
   ]
  },
  {
   "cell_type": "code",
   "execution_count": 44,
   "id": "95cc221f-1209-41b4-abf0-88b70334a3e7",
   "metadata": {},
   "outputs": [
    {
     "data": {
      "text/plain": [
       "1"
      ]
     },
     "execution_count": 44,
     "metadata": {},
     "output_type": "execute_result"
    }
   ],
   "source": [
    "err = test[(test['intent']=='change_order')&(predicted=='get_invoice')]\n",
    "len(err)"
   ]
  },
  {
   "cell_type": "code",
   "execution_count": 45,
   "id": "f1606253-7172-4bef-a299-b374b9d1635b",
   "metadata": {},
   "outputs": [
    {
     "data": {
      "text/plain": [
       "'I want to change mypurchase, can you give me some information?'"
      ]
     },
     "execution_count": 45,
     "metadata": {},
     "output_type": "execute_result"
    }
   ],
   "source": [
    "err['utterance'].iloc[0]"
   ]
  },
  {
   "cell_type": "code",
   "execution_count": 46,
   "id": "fb346f1f-99e1-4028-b2a2-3f80978522fa",
   "metadata": {},
   "outputs": [
    {
     "data": {
      "text/plain": [
       "1"
      ]
     },
     "execution_count": 46,
     "metadata": {},
     "output_type": "execute_result"
    }
   ],
   "source": [
    "err = test[(test['intent']=='check_invoices')&(predicted=='track_order')]\n",
    "len(err)"
   ]
  },
  {
   "cell_type": "code",
   "execution_count": 47,
   "id": "b6903706-2615-496f-aa97-7a2fedfdde84",
   "metadata": {},
   "outputs": [
    {
     "data": {
      "text/plain": [
       "'how do I check my bil?'"
      ]
     },
     "execution_count": 47,
     "metadata": {},
     "output_type": "execute_result"
    }
   ],
   "source": [
    "err['utterance'].iloc[0]"
   ]
  },
  {
   "cell_type": "code",
   "execution_count": 48,
   "id": "11ca65c8-7476-438b-9b05-642f2d341eaa",
   "metadata": {},
   "outputs": [
    {
     "data": {
      "text/plain": [
       "1"
      ]
     },
     "execution_count": 48,
     "metadata": {},
     "output_type": "execute_result"
    }
   ],
   "source": [
    "err = test[(test['intent']=='delete_account')&(predicted=='edit_account')]\n",
    "len(err)"
   ]
  },
  {
   "cell_type": "code",
   "execution_count": 49,
   "id": "e2b96e48-6f15-4322-9e45-1cf8cb011d43",
   "metadata": {},
   "outputs": [
    {
     "data": {
      "text/plain": [
       "'I need help deleting my profile'"
      ]
     },
     "execution_count": 49,
     "metadata": {},
     "output_type": "execute_result"
    }
   ],
   "source": [
    "err['utterance'].iloc[0]"
   ]
  },
  {
   "cell_type": "code",
   "execution_count": 50,
   "id": "6a73aa60-00da-4c14-bbc4-8293c1d71303",
   "metadata": {},
   "outputs": [
    {
     "data": {
      "text/plain": [
       "1"
      ]
     },
     "execution_count": 50,
     "metadata": {},
     "output_type": "execute_result"
    }
   ],
   "source": [
    "err = test[(test['intent']=='delivery_period')&(predicted=='track_order')]\n",
    "len(err)"
   ]
  },
  {
   "cell_type": "code",
   "execution_count": 51,
   "id": "08e27585-c0df-4b60-ade3-3f4ef499a727",
   "metadata": {},
   "outputs": [
    {
     "data": {
      "text/plain": [
       "'when will my tickket arrive ?'"
      ]
     },
     "execution_count": 51,
     "metadata": {},
     "output_type": "execute_result"
    }
   ],
   "source": [
    "err['utterance'].iloc[0]"
   ]
  },
  {
   "cell_type": "code",
   "execution_count": 52,
   "id": "d1a6be6a-7183-41dc-b618-93906ae0e996",
   "metadata": {},
   "outputs": [
    {
     "data": {
      "text/plain": [
       "1"
      ]
     },
     "execution_count": 52,
     "metadata": {},
     "output_type": "execute_result"
    }
   ],
   "source": [
    "err = test[(test['intent']=='get_invoice')&(predicted=='check_invoices')]\n",
    "len(err)"
   ]
  },
  {
   "cell_type": "code",
   "execution_count": 53,
   "id": "566bee1d-f612-4850-998c-71b50e88363c",
   "metadata": {},
   "outputs": [
    {
     "data": {
      "text/plain": [
       "'how to obtainsome bills'"
      ]
     },
     "execution_count": 53,
     "metadata": {},
     "output_type": "execute_result"
    }
   ],
   "source": [
    "err['utterance'].iloc[0]"
   ]
  },
  {
   "cell_type": "code",
   "execution_count": 54,
   "id": "83639c95-58d2-41c4-98f6-ef0735650128",
   "metadata": {},
   "outputs": [
    {
     "data": {
      "text/plain": [
       "1"
      ]
     },
     "execution_count": 54,
     "metadata": {},
     "output_type": "execute_result"
    }
   ],
   "source": [
    "err = test[(test['intent']=='get_refund')&(predicted=='delete_account')]\n",
    "len(err)"
   ]
  },
  {
   "cell_type": "code",
   "execution_count": 55,
   "id": "6c2cf81a-bd6e-49eb-9dc0-acda175648cf",
   "metadata": {},
   "outputs": [
    {
     "data": {
      "text/plain": [
       "'how do I request areimbursement?'"
      ]
     },
     "execution_count": 55,
     "metadata": {},
     "output_type": "execute_result"
    }
   ],
   "source": [
    "err['utterance'].iloc[0]"
   ]
  },
  {
   "cell_type": "code",
   "execution_count": 56,
   "id": "8c36a1c0-edf5-4c50-8481-39ad8a3fef96",
   "metadata": {},
   "outputs": [
    {
     "data": {
      "text/plain": [
       "1"
      ]
     },
     "execution_count": 56,
     "metadata": {},
     "output_type": "execute_result"
    }
   ],
   "source": [
    "err = test[(test['intent']=='place_order')&(predicted=='create_account')]\n",
    "len(err)"
   ]
  },
  {
   "cell_type": "code",
   "execution_count": 57,
   "id": "a913c060-a058-4a49-9f74-bc0ca1eb10fb",
   "metadata": {},
   "outputs": [
    {
     "data": {
      "text/plain": [
       "'I need help making an ofder'"
      ]
     },
     "execution_count": 57,
     "metadata": {},
     "output_type": "execute_result"
    }
   ],
   "source": [
    "err['utterance'].iloc[0]"
   ]
  },
  {
   "cell_type": "code",
   "execution_count": 60,
   "id": "5859551b-cfb8-4eed-b73a-f56d838440e6",
   "metadata": {},
   "outputs": [
    {
     "data": {
      "text/plain": [
       "1"
      ]
     },
     "execution_count": 60,
     "metadata": {},
     "output_type": "execute_result"
    }
   ],
   "source": [
    "err = test[(test['intent']=='registration_problems')&(predicted=='create_account')]\n",
    "len(err)"
   ]
  },
  {
   "cell_type": "code",
   "execution_count": 61,
   "id": "21752e0c-f882-4b4d-8aca-62f27ee677bd",
   "metadata": {},
   "outputs": [
    {
     "data": {
      "text/plain": [
       "\"I' trying to open an account but I can't\""
      ]
     },
     "execution_count": 61,
     "metadata": {},
     "output_type": "execute_result"
    }
   ],
   "source": [
    "err['utterance'].iloc[0]"
   ]
  },
  {
   "cell_type": "code",
   "execution_count": 62,
   "id": "0b94d8d0-eb4e-48de-b3d6-6a51927d9824",
   "metadata": {},
   "outputs": [
    {
     "data": {
      "text/plain": [
       "1"
      ]
     },
     "execution_count": 62,
     "metadata": {},
     "output_type": "execute_result"
    }
   ],
   "source": [
    "err = test[(test['intent']=='registration_problems')&(predicted=='newsletter_subscription')]\n",
    "len(err)"
   ]
  },
  {
   "cell_type": "code",
   "execution_count": 63,
   "id": "906081bf-4aae-4b45-9450-9a09888d1cca",
   "metadata": {},
   "outputs": [
    {
     "data": {
      "text/plain": [
       "'There is a problem with the reggistration'"
      ]
     },
     "execution_count": 63,
     "metadata": {},
     "output_type": "execute_result"
    }
   ],
   "source": [
    "err['utterance'].iloc[0]"
   ]
  },
  {
   "cell_type": "code",
   "execution_count": 64,
   "id": "2fb21fba-4106-4672-9330-d8de3937369e",
   "metadata": {},
   "outputs": [
    {
     "data": {
      "text/plain": [
       "1"
      ]
     },
     "execution_count": 64,
     "metadata": {},
     "output_type": "execute_result"
    }
   ],
   "source": [
    "err = test[(test['intent']=='registration_problems')&(predicted=='payment_issue')]\n",
    "len(err)"
   ]
  },
  {
   "cell_type": "code",
   "execution_count": 65,
   "id": "c7e4bc4d-28cc-4c01-b6bb-ba8ef129a812",
   "metadata": {},
   "outputs": [
    {
     "data": {
      "text/plain": [
       "\"I'm trying to regiter but I can't\""
      ]
     },
     "execution_count": 65,
     "metadata": {},
     "output_type": "execute_result"
    }
   ],
   "source": [
    "err['utterance'].iloc[0]"
   ]
  },
  {
   "cell_type": "code",
   "execution_count": 66,
   "id": "d2cdafcb-a270-4726-9893-3e393df19f03",
   "metadata": {},
   "outputs": [
    {
     "data": {
      "text/plain": [
       "1"
      ]
     },
     "execution_count": 66,
     "metadata": {},
     "output_type": "execute_result"
    }
   ],
   "source": [
    "err = test[(test['intent']=='track_order')&(predicted=='change_order')]\n",
    "len(err)"
   ]
  },
  {
   "cell_type": "code",
   "execution_count": 67,
   "id": "ce85c575-cb30-4282-9733-5aa0e3ce7018",
   "metadata": {},
   "outputs": [
    {
     "data": {
      "text/plain": [
       "'I want to cherck my order, can you tell me where to do it?'"
      ]
     },
     "execution_count": 67,
     "metadata": {},
     "output_type": "execute_result"
    }
   ],
   "source": [
    "err['utterance'].iloc[0]"
   ]
  },
  {
   "cell_type": "markdown",
   "id": "d271a336-82fc-4ac0-afb4-b1d3dec839b9",
   "metadata": {},
   "source": [
    "The pattern we see in all of these errors is that when a word is misspelled or is made up of\n",
    "two words, the utterane is mislabeled."
   ]
  },
  {
   "cell_type": "markdown",
   "id": "c94cd433-18da-43bb-8a65-7cc745487925",
   "metadata": {},
   "source": [
    "<br>"
   ]
  },
  {
   "cell_type": "markdown",
   "id": "10305502-f09d-483a-ae33-2460af95b089",
   "metadata": {
    "tags": []
   },
   "source": [
    "<h3>Model Parameters</h3>"
   ]
  },
  {
   "cell_type": "code",
   "execution_count": 68,
   "id": "7e3fbe0b-9ad7-4999-be88-bc3560bd6d68",
   "metadata": {},
   "outputs": [],
   "source": [
    "labels = sgd.named_steps['sgdclassifier'].classes_"
   ]
  },
  {
   "cell_type": "code",
   "execution_count": 69,
   "id": "2fd28d00-163f-495a-834c-b6aa3480f85d",
   "metadata": {},
   "outputs": [
    {
     "data": {
      "text/plain": [
       "(array(['change_order', 'change_shipping_address',\n",
       "        'check_cancellation_fee', 'check_invoices',\n",
       "        'check_payment_methods', 'check_refund_policy', 'complaint',\n",
       "        'contact_customer_service', 'contact_human_agent',\n",
       "        'create_account', 'delete_account', 'delivery_options',\n",
       "        'delivery_period', 'edit_account', 'get_invoice', 'get_refund',\n",
       "        'newsletter_subscription', 'payment_issue', 'place_order',\n",
       "        'recover_password', 'registration_problems', 'review',\n",
       "        'set_up_shipping_address', 'switch_account', 'track_order',\n",
       "        'track_refund'], dtype='<U24'),\n",
       " array([[ -0.96661984,  -3.79561331,  -0.68140799, ...,   0.        ,\n",
       "           1.00934798,  -2.52515328],\n",
       "        [  0.        ,  -3.67256505,  -2.46178024, ...,   0.        ,\n",
       "          -0.19920431,   0.        ],\n",
       "        [  0.        ,  -4.39540055,  -2.36639944, ...,   0.        ,\n",
       "          -3.61150765,  -2.9081076 ],\n",
       "        ...,\n",
       "        [ -2.97748638,  -8.93898237,  -2.30068833, ...,   0.        ,\n",
       "          -2.91562096,   0.        ],\n",
       "        [  1.81062921, -12.90028452,   3.0244479 , ...,  -3.30907895,\n",
       "           1.01083295,  -3.74029618],\n",
       "        [  0.        , -27.11518322,   0.83975169, ...,   7.60333289,\n",
       "           0.74545725,  -6.3866028 ]]))"
      ]
     },
     "execution_count": 69,
     "metadata": {},
     "output_type": "execute_result"
    }
   ],
   "source": [
    "coef = sgd.named_steps['sgdclassifier'].coef_\n",
    "labels, coef"
   ]
  },
  {
   "cell_type": "code",
   "execution_count": 70,
   "id": "2dea75ba-13a0-4702-9c71-707413299ec7",
   "metadata": {},
   "outputs": [
    {
     "data": {
      "text/plain": [
       "(26, 367)"
      ]
     },
     "execution_count": 70,
     "metadata": {},
     "output_type": "execute_result"
    }
   ],
   "source": [
    "coef.shape"
   ]
  },
  {
   "cell_type": "code",
   "execution_count": 71,
   "id": "65c77371-9db4-4f43-a2bc-f61c03943bb2",
   "metadata": {},
   "outputs": [],
   "source": [
    "vocab = sgd.named_steps['countvectorizer'].get_feature_names_out()"
   ]
  },
  {
   "cell_type": "code",
   "execution_count": 72,
   "id": "35f75552-6179-40ea-873b-c185c2d0104a",
   "metadata": {},
   "outputs": [
    {
     "data": {
      "text/plain": [
       "180"
      ]
     },
     "execution_count": 72,
     "metadata": {},
     "output_type": "execute_result"
    }
   ],
   "source": [
    "coef[0,:].argmax()"
   ]
  },
  {
   "cell_type": "code",
   "execution_count": 74,
   "id": "cced5160-320b-42d7-b0e1-35b4d1e7f660",
   "metadata": {},
   "outputs": [
    {
     "data": {
      "text/plain": [
       "array([ 14.08669566,   2.8428465 ,   0.        ,  -2.39255717,\n",
       "        -3.12598353,   0.        ,   0.        ,   0.        ,\n",
       "         0.        ,  -2.44936407, -15.29401515,   0.        ,\n",
       "        -2.68224582,  13.58403722,  -2.08351989,   0.        ,\n",
       "        -3.53268709,  -3.25360805,  -2.46199044,  -4.87798949,\n",
       "         0.        ,   0.        ,  -3.01540094,   0.        ,\n",
       "       -18.72682128,   0.        ])"
      ]
     },
     "execution_count": 74,
     "metadata": {},
     "output_type": "execute_result"
    }
   ],
   "source": [
    "coef[:,180]"
   ]
  },
  {
   "cell_type": "code",
   "execution_count": 76,
   "id": "00538c89-081f-48d9-b910-535821ca7e1e",
   "metadata": {},
   "outputs": [
    {
     "data": {
      "text/plain": [
       "'modify'"
      ]
     },
     "execution_count": 76,
     "metadata": {},
     "output_type": "execute_result"
    }
   ],
   "source": [
    "vocab[180]"
   ]
  },
  {
   "cell_type": "markdown",
   "id": "267473c4-e3c7-46db-94c3-e2132acf5098",
   "metadata": {},
   "source": [
    "the word 'modify' is the strongest indicator that it's an untterance about change_order"
   ]
  },
  {
   "cell_type": "code",
   "execution_count": 77,
   "id": "46b912eb-02e2-43b1-b818-c3cf3e536d6c",
   "metadata": {},
   "outputs": [
    {
     "name": "stdout",
     "output_type": "stream",
     "text": [
      "change_order\n",
      "  modify          14.087\n",
      "  order           13.058\n",
      "  purchase        11.774\n",
      "  change          11.428\n",
      "  ordered         10.127\n",
      "  changing         9.789\n",
      "  modifying        9.473\n",
      "  it               9.055\n",
      "  ell              8.559\n",
      "  purchased        8.328\n",
      "  of              -7.854\n",
      "  address         -7.861\n",
      "  help            -8.339\n",
      "  do              -9.570\n",
      "  another         -10.368\n",
      "  the             -10.453\n",
      "  account         -12.514\n",
      "  is              -14.661\n",
      "  track           -14.720\n",
      "  profile         -15.856\n",
      "\n",
      "change_shipping_address\n",
      "  shipping        10.594\n",
      "  address          8.978\n",
      "  changes          4.305\n",
      "  modify           2.843\n",
      "  change           1.263\n",
      "  to               0.712\n",
      "  has              0.561\n",
      "  how              0.406\n",
      "  u                0.397\n",
      "  changed          0.128\n",
      "  another         -4.358\n",
      "  email           -4.473\n",
      "  order           -4.638\n",
      "  the             -4.824\n",
      "  it              -4.876\n",
      "  have            -5.111\n",
      "  profile         -5.419\n",
      "  online          -5.457\n",
      "  issues          -5.582\n",
      "  set             -7.292\n",
      "\n",
      "check_cancellation_fee\n",
      "  cancelation     13.559\n",
      "  fee             11.968\n",
      "  fees            10.649\n",
      "  penalties        7.679\n",
      "  penalty          5.111\n",
      "  view             3.412\n",
      "  u                2.863\n",
      "  see              2.686\n",
      "  the              1.778\n",
      "  help             0.399\n",
      "  receive         -4.570\n",
      "  payment         -4.661\n",
      "  modifying       -4.662\n",
      "  go              -4.725\n",
      "  newsletter      -4.824\n",
      "  through         -4.839\n",
      "  refundable      -5.086\n",
      "  my              -5.419\n",
      "  are             -5.841\n",
      "  options         -6.176\n",
      "\n",
      "check_invoices\n",
      "  invoices        14.275\n",
      "  bill            13.781\n",
      "  bills           13.727\n",
      "  invoice         13.248\n",
      "  agent           12.209\n",
      "  show            11.382\n",
      "  my              10.855\n",
      "  ask             10.451\n",
      "  ym              10.250\n",
      "  find             8.880\n",
      "  requesting      -7.866\n",
      "  obtain          -8.367\n",
      "  getting         -8.831\n",
      "  know            -9.115\n",
      "  the             -10.040\n",
      "  order           -10.481\n",
      "  request         -10.766\n",
      "  password        -12.840\n",
      "  some            -18.402\n",
      "  an              -26.577\n",
      "\n",
      "check_payment_methods\n",
      "  methods         12.729\n",
      "  options         11.481\n",
      "  card            11.185\n",
      "  payment          9.459\n",
      "  amex             9.412\n",
      "  visa             9.181\n",
      "  master           8.132\n",
      "  your             7.792\n",
      "  with             7.108\n",
      "  their            6.021\n",
      "  policy          -5.910\n",
      "  refund          -5.974\n",
      "  notify          -6.844\n",
      "  invoice         -6.853\n",
      "  available       -7.038\n",
      "  an              -7.039\n",
      "  my              -7.267\n",
      "  a               -8.254\n",
      "  delivery        -8.327\n",
      "  have            -8.573\n",
      "\n",
      "check_refund_policy\n",
      "  policy          17.032\n",
      "  their           11.740\n",
      "  your            11.091\n",
      "  refundable       9.205\n",
      "  take             9.097\n",
      "  guarantee        6.811\n",
      "  cancel           6.784\n",
      "  money            6.479\n",
      "  full             6.310\n",
      "  case             6.310\n",
      "  on              -5.785\n",
      "  was             -6.265\n",
      "  options         -6.445\n",
      "  way             -6.725\n",
      "  can             -6.973\n",
      "  my              -8.684\n",
      "  for             -8.824\n",
      "  payment         -8.878\n",
      "  delivery        -12.407\n",
      "  arrive          -16.247\n",
      "\n",
      "complaint\n",
      "  complaint       29.291\n",
      "  consumer        12.988\n",
      "  not             10.077\n",
      "  lodge            9.688\n",
      "  make             9.073\n",
      "  ask              8.867\n",
      "  submit           8.316\n",
      "  agent            6.810\n",
      "  discontent       6.043\n",
      "  fucking          3.464\n",
      "  bill            -6.916\n",
      "  you             -7.541\n",
      "  account         -7.893\n",
      "  purchase        -8.079\n",
      "  my              -8.390\n",
      "  an              -8.560\n",
      "  order           -9.174\n",
      "  opinion         -9.586\n",
      "  payment         -9.803\n",
      "  review          -10.343\n",
      "\n",
      "contact_customer_service\n",
      "  customer        12.992\n",
      "  client          12.153\n",
      "  question        11.873\n",
      "  service         11.046\n",
      "  support          8.304\n",
      "  contact          8.176\n",
      "  email            7.754\n",
      "  information      7.521\n",
      "  mail             5.996\n",
      "  speak            5.086\n",
      "  refundable      -4.519\n",
      "  human           -4.622\n",
      "  leave           -4.626\n",
      "  helpme          -4.913\n",
      "  view            -4.947\n",
      "  make            -5.034\n",
      "  about           -5.179\n",
      "  for             -7.255\n",
      "  a               -7.321\n",
      "  my              -7.558\n",
      "\n",
      "contact_human_agent\n",
      "  human           13.361\n",
      "  person          10.897\n",
      "  understand       9.461\n",
      "  someone          9.132\n",
      "  contact          8.409\n",
      "  available        8.200\n",
      "  speak            7.752\n",
      "  talk             7.121\n",
      "  helping          5.928\n",
      "  contacting       5.851\n",
      "  want            -4.984\n",
      "  pasword         -5.016\n",
      "  validation      -5.261\n",
      "  an              -5.602\n",
      "  client          -6.022\n",
      "  have            -6.052\n",
      "  password        -6.828\n",
      "  support         -7.373\n",
      "  customer        -8.578\n",
      "  my              -8.957\n",
      "\n",
      "create_account\n",
      "  profile         11.328\n",
      "  open            10.980\n",
      "  register        10.881\n",
      "  create          10.040\n",
      "  user             9.697\n",
      "  one              8.253\n",
      "  registering      8.176\n",
      "  help             8.173\n",
      "  what             8.003\n",
      "  account          7.929\n",
      "  removing        -6.601\n",
      "  it              -6.699\n",
      "  obtain          -7.169\n",
      "  reimbursement   -7.774\n",
      "  change          -7.893\n",
      "  when            -8.355\n",
      "  problem         -10.771\n",
      "  problems        -11.183\n",
      "  refund          -12.843\n",
      "  issue           -13.357\n",
      "\n",
      "delete_account\n",
      "  remove          17.812\n",
      "  close           15.895\n",
      "  cancel          15.724\n",
      "  delete          15.391\n",
      "  canceling       11.048\n",
      "  account         10.917\n",
      "  removing        10.542\n",
      "  closing          9.439\n",
      "  ask              9.230\n",
      "  deleting         8.692\n",
      "  hacked          -8.038\n",
      "  track           -8.354\n",
      "  reset           -9.258\n",
      "  another         -9.721\n",
      "  password        -9.818\n",
      "  edit            -9.958\n",
      "  update          -10.106\n",
      "  change          -10.767\n",
      "  modify          -15.294\n",
      "  a               -18.866\n",
      "\n",
      "delivery_options\n",
      "  delivery        11.791\n",
      "  options         11.669\n",
      "  the              7.318\n",
      "  for              4.904\n",
      "  u                4.320\n",
      "  see              3.900\n",
      "  do               2.636\n",
      "  help             2.220\n",
      "  agent            2.002\n",
      "  wanna            1.973\n",
      "  mail            -5.618\n",
      "  of              -5.619\n",
      "  where           -5.757\n",
      "  service         -6.022\n",
      "  long            -6.383\n",
      "  no              -6.387\n",
      "  cancelation     -6.428\n",
      "  your            -8.848\n",
      "  period          -10.573\n",
      "  payment         -11.960\n",
      "\n",
      "delivery_period\n",
      "  period          15.659\n",
      "  tickets         11.894\n",
      "  does             8.891\n",
      "  ticket           8.014\n",
      "  takes            6.980\n",
      "  expect           6.364\n",
      "  arrive           6.207\n",
      "  fast             3.620\n",
      "  going            3.564\n",
      "  soon             3.408\n",
      "  how             -4.798\n",
      "  do              -4.816\n",
      "  my              -4.932\n",
      "  where           -5.484\n",
      "  view            -5.831\n",
      "  help            -6.006\n",
      "  package         -6.043\n",
      "  order           -6.149\n",
      "  get             -6.860\n",
      "  refund          -10.312\n",
      "\n",
      "edit_account\n",
      "  modify          13.584\n",
      "  edit            13.414\n",
      "  change          12.926\n",
      "  update          11.761\n",
      "  changes         11.579\n",
      "  modifying        9.693\n",
      "  profile          9.636\n",
      "  it               7.132\n",
      "  on               6.748\n",
      "  help             6.484\n",
      "  remove          -8.188\n",
      "  address         -8.208\n",
      "  cancel          -8.354\n",
      "  account         -8.503\n",
      "  close           -8.614\n",
      "  shipping        -9.161\n",
      "  canceling       -9.717\n",
      "  another         -11.408\n",
      "  purchase        -12.312\n",
      "  order           -15.562\n",
      "\n",
      "get_invoice\n",
      "  bill            15.560\n",
      "  some            12.753\n",
      "  know            12.147\n",
      "  invoice         11.961\n",
      "  download        11.454\n",
      "  obtaining        9.884\n",
      "  requesting       8.974\n",
      "  seeing           8.426\n",
      "  information      8.236\n",
      "  bil              8.178\n",
      "  track           -5.336\n",
      "  account         -5.487\n",
      "  packages        -6.628\n",
      "  do              -6.876\n",
      "  the             -7.183\n",
      "  order           -7.423\n",
      "  make            -7.604\n",
      "  one             -10.435\n",
      "  refund          -10.999\n",
      "  reimbursement   -12.329\n",
      "\n",
      "get_refund\n",
      "  reimbursement   20.391\n",
      "  refund          17.252\n",
      "  obtain          12.378\n",
      "  postponed       12.267\n",
      "  event           11.326\n",
      "  canceled         9.918\n",
      "  game             8.122\n",
      "  concert          7.903\n",
      "  get              6.231\n",
      "  request          5.731\n",
      "  make            -7.215\n",
      "  profile         -7.265\n",
      "  complaint       -7.379\n",
      "  policy          -8.691\n",
      "  some            -9.204\n",
      "  track           -10.377\n",
      "  an              -11.876\n",
      "  payment         -12.059\n",
      "  bill            -12.123\n",
      "  invoice         -15.111\n",
      "\n",
      "newsletter_subscription\n",
      "  newsletter      15.344\n",
      "  date             9.786\n",
      "  subscribe        8.102\n",
      "  receive          6.821\n",
      "  stay             6.714\n",
      "  the              5.453\n",
      "  receiving        4.674\n",
      "  keep             3.145\n",
      "  please           3.011\n",
      "  there            2.610\n",
      "  sign            -4.073\n",
      "  issues          -4.117\n",
      "  setting         -4.174\n",
      "  retrieve        -4.595\n",
      "  master          -4.645\n",
      "  of              -4.954\n",
      "  reimbursement   -5.337\n",
      "  service         -5.566\n",
      "  a               -5.900\n",
      "  refund          -7.387\n",
      "\n",
      "payment_issue\n",
      "  payment         17.714\n",
      "  paying          15.314\n",
      "  issue           15.051\n",
      "  notify          14.377\n",
      "  when            11.845\n",
      "  problem         11.434\n",
      "  pay             11.179\n",
      "  problems        10.853\n",
      "  declined        10.581\n",
      "  making          10.526\n",
      "  purchase        -6.784\n",
      "  methods         -6.900\n",
      "  service         -6.901\n",
      "  found           -8.016\n",
      "  options         -8.016\n",
      "  reimbursement   -8.649\n",
      "  check           -8.800\n",
      "  having          -9.175\n",
      "  registering     -10.042\n",
      "  had             -10.141\n",
      "\n",
      "place_order\n",
      "  order           12.750\n",
      "  purchase        12.213\n",
      "  place           11.956\n",
      "  make             7.865\n",
      "  what             7.015\n",
      "  an               5.838\n",
      "  sak              5.014\n",
      "  help             3.545\n",
      "  do               3.245\n",
      "  u                2.563\n",
      "  tell            -4.872\n",
      "  account         -4.936\n",
      "  open            -5.009\n",
      "  opinion         -5.362\n",
      "  contact         -5.706\n",
      "  comment         -6.266\n",
      "  complaint       -6.424\n",
      "  consumer        -7.159\n",
      "  a               -7.350\n",
      "  payment         -9.541\n",
      "\n",
      "recover_password\n",
      "  hacked          15.321\n",
      "  password        14.877\n",
      "  my              11.018\n",
      "  retrieve        10.251\n",
      "  reset            9.085\n",
      "  remember         7.559\n",
      "  recover          7.044\n",
      "  stole            7.021\n",
      "  pasword          5.005\n",
      "  back             4.906\n",
      "  invoice         -5.779\n",
      "  shipments       -5.978\n",
      "  canceling       -6.052\n",
      "  track           -6.094\n",
      "  view            -6.171\n",
      "  check           -6.248\n",
      "  packages        -6.420\n",
      "  see             -6.746\n",
      "  deliveries      -6.758\n",
      "  the             -6.817\n",
      "\n",
      "registration_problems\n",
      "  when            15.815\n",
      "  opening          9.977\n",
      "  creating         8.775\n",
      "  having           8.554\n",
      "  had              8.481\n",
      "  registering      5.656\n",
      "  signing          5.209\n",
      "  registration     5.099\n",
      "  problems         4.938\n",
      "  sign             4.193\n",
      "  to              -5.953\n",
      "  wat             -6.158\n",
      "  do              -6.173\n",
      "  one             -7.478\n",
      "  my              -7.526\n",
      "  help            -8.507\n",
      "  pay             -8.680\n",
      "  payment         -9.710\n",
      "  how             -10.914\n",
      "  need            -11.984\n",
      "\n",
      "review\n",
      "  comment         16.991\n",
      "  review          15.576\n",
      "  leave           13.898\n",
      "  opinion         13.502\n",
      "  write           10.970\n",
      "  happy           10.895\n",
      "  lodge            9.769\n",
      "  file             7.336\n",
      "  you              4.897\n",
      "  wantto           4.292\n",
      "  someone         -5.624\n",
      "  registration    -5.732\n",
      "  create          -6.147\n",
      "  client          -6.196\n",
      "  contact         -6.267\n",
      "  a               -6.407\n",
      "  my              -6.491\n",
      "  account         -6.720\n",
      "  how             -7.561\n",
      "  not             -11.514\n",
      "\n",
      "set_up_shipping_address\n",
      "  set             13.986\n",
      "  up              10.136\n",
      "  setting          4.307\n",
      "  it               3.304\n",
      "  address          2.425\n",
      "  no               1.681\n",
      "  u                0.532\n",
      "  ask              0.461\n",
      "  agent            0.447\n",
      "  do               0.342\n",
      "  changes         -4.293\n",
      "  edit            -4.492\n",
      "  to              -4.725\n",
      "  update          -4.728\n",
      "  registration    -4.840\n",
      "  my              -4.871\n",
      "  open            -5.051\n",
      "  signing         -5.061\n",
      "  issues          -5.288\n",
      "  account         -5.738\n",
      "\n",
      "switch_account\n",
      "  another         14.008\n",
      "  other           10.851\n",
      "  switch          10.744\n",
      "  change           8.171\n",
      "  use              7.298\n",
      "  them             5.946\n",
      "  ask              3.721\n",
      "  switching        3.593\n",
      "  to               3.236\n",
      "  fucking          2.797\n",
      "  delete          -4.234\n",
      "  talking         -4.265\n",
      "  remove          -4.569\n",
      "  an              -4.830\n",
      "  myorder         -5.592\n",
      "  open            -5.914\n",
      "  order           -6.802\n",
      "  purchase        -6.812\n",
      "  address         -7.615\n",
      "  a               -8.939\n",
      "\n",
      "track_order\n",
      "  orders          20.669\n",
      "  shipments       15.530\n",
      "  packages        14.894\n",
      "  shipment        14.632\n",
      "  package         13.393\n",
      "  order           13.215\n",
      "  deliveries      12.541\n",
      "  checking        12.445\n",
      "  is              12.257\n",
      "  check           12.241\n",
      "  ticket          -11.104\n",
      "  bill            -11.386\n",
      "  invoice         -11.749\n",
      "  a               -12.900\n",
      "  an              -13.495\n",
      "  what            -14.096\n",
      "  options         -17.219\n",
      "  modify          -18.727\n",
      "  change          -19.322\n",
      "  refund          -22.239\n",
      "\n",
      "track_refund\n",
      "  refund          19.162\n",
      "  reimbursement   18.660\n",
      "  processed       14.044\n",
      "  to              13.347\n",
      "  track           12.203\n",
      "  status          11.317\n",
      "  tracking        11.304\n",
      "  of               9.834\n",
      "  ym               7.603\n",
      "  ask              7.421\n",
      "  packages        -8.167\n",
      "  their           -8.390\n",
      "  request         -8.570\n",
      "  can             -8.581\n",
      "  an              -9.439\n",
      "  should          -9.859\n",
      "  policy          -10.959\n",
      "  delivery        -11.839\n",
      "  purchase        -15.044\n",
      "  order           -18.469\n",
      "\n"
     ]
    }
   ],
   "source": [
    "ranked = np.argsort(coef, axis=1)\n",
    "for i, label in enumerate(labels):\n",
    "    print(label)\n",
    "    for j in concat([range(-1, -11, -1), range(10, 0, -1)]):\n",
    "        print(f'  {vocab[ranked[i,j]]:15s} {coef[i, ranked[i,j]]:6.3f}')\n",
    "    print()"
   ]
  },
  {
   "cell_type": "code",
   "execution_count": null,
   "id": "ec2b02e8-e7e7-4fbd-89ee-a98cd6863528",
   "metadata": {},
   "outputs": [],
   "source": []
  }
 ],
 "metadata": {
  "kernelspec": {
   "display_name": "Python 3 (ipykernel)",
   "language": "python",
   "name": "python3"
  },
  "language_info": {
   "codemirror_mode": {
    "name": "ipython",
    "version": 3
   },
   "file_extension": ".py",
   "mimetype": "text/x-python",
   "name": "python",
   "nbconvert_exporter": "python",
   "pygments_lexer": "ipython3",
   "version": "3.9.9"
  }
 },
 "nbformat": 4,
 "nbformat_minor": 5
}
